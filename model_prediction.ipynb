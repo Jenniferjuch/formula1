{
 "cells": [
  {
   "cell_type": "code",
   "execution_count": null,
   "id": "cb47c2f8",
   "metadata": {},
   "outputs": [],
   "source": [
    "import numpy as np \n",
    "import pandas as pd \n",
    "import fastf1\n",
    "from sklearn import preprocessing\n",
    "from sklearn.model_selection import train_test_split\n",
    "from sklearn.ensemble import GradientBoostingRegressor\n",
    "from sklearn.ensemble import RandomForestRegressor"
   ]
  },
  {
   "cell_type": "markdown",
   "id": "cdf3045e",
   "metadata": {},
   "source": [
    "**Get data**\n",
    "All data from 2023 up until this point (2025 race ...)"
   ]
  },
  {
   "cell_type": "markdown",
   "id": "9ae977b8",
   "metadata": {},
   "source": [
    "**Data preprocessing**"
   ]
  },
  {
   "cell_type": "markdown",
   "id": "5f689b36",
   "metadata": {},
   "source": [
    "**Train the model**\n",
    "On ALL data available"
   ]
  },
  {
   "cell_type": "markdown",
   "id": "6e73b29b",
   "metadata": {},
   "source": [
    "**Prediction data**\n",
    "Make feature vector of the upcoming race"
   ]
  },
  {
   "cell_type": "markdown",
   "id": "6507ec00",
   "metadata": {},
   "source": [
    "**Predict**"
   ]
  }
 ],
 "metadata": {
  "language_info": {
   "name": "python"
  }
 },
 "nbformat": 4,
 "nbformat_minor": 5
}
